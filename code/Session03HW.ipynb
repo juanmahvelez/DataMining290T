{
 "metadata": {
  "name": ""
 },
 "nbformat": 3,
 "nbformat_minor": 0,
 "worksheets": [
  {
   "cells": [
    {
     "cell_type": "code",
     "collapsed": false,
     "input": [
      "import fileinput\n",
      "import csv\n",
      "\n",
      "total = 0.0\n",
      "amtarray = []\n",
      "sumerror = 0.0\n",
      "candarray = []\n",
      "\n",
      "data = csv.reader(fileinput.input(\"../data/itpas2.txt\"),delimiter='|')\n",
      "\n"
     ],
     "language": "python",
     "metadata": {},
     "outputs": [],
     "prompt_number": 4
    },
    {
     "cell_type": "code",
     "collapsed": false,
     "input": [
      "for row in data:\n",
      "    #if not fileinput.isfirstline():\n",
      "    amt = float(row[14])\n",
      "    total += amt\n",
      "    amtarray.append(amt)\n",
      "    cand = row[16]\n",
      "    candarray.append(cand)\n",
      "    \n",
      "amtsorted = sorted(amtarray)\n",
      "minimum = amtsorted[0]\n",
      "maximum = amtsorted[len(amtsorted)-1]\n",
      "mean = total/len(amtsorted)\n",
      "median = amtsorted[(len(amtsorted)-1)/2]\n",
      "\n",
      "sqerrorarray = [(x - mean)**2 for x in amtarray]\n",
      "for sqerror in sqerrorarray:\n",
      "    sumerror += sqerror\n",
      "sigma = (sumerror/(len(amtsorted)-1))**0.5\n",
      "\n",
      "count = len(set(candarray))\n",
      "    \n",
      "\n",
      "\n",
      "print \"Total %s\" % total\n",
      "print \"Minimum: \" , minimum\n",
      "print \"Maximum: \" , maximum\n",
      "print \"Mean: \" , mean\n",
      "print \"Median: \" , median\n",
      "# square root can be calculated with N**0.5\n",
      "print \"Standard Deviation: \" , sigma\n",
      "\n",
      "print \"Count: \", count\n",
      "print candarray[0:10]\n",
      "#print candsorted[0:10]\n",
      "#print amtarray[0:10]\n",
      "#print sqerrorarray[0:10]"
     ],
     "language": "python",
     "metadata": {},
     "outputs": [
      {
       "output_type": "stream",
       "stream": "stdout",
       "text": [
        "Total 1848775178.0\n",
        "Minimum:  -207732.0\n",
        "Maximum:  9856374.0\n",
        "Mean:  4665.45497629\n",
        "Median:  1000.0\n",
        "Standard Deviation:  246194.717096\n",
        "Count:  1762\n",
        "['H2MD02160', 'H8WI09050', 'H8NE02139', 'H0MI10071', 'H0OH18077', 'H6CO05159', 'S6WY00068', 'S6LA00227', 'S8MI00281', 'H2AL06035']\n"
       ]
      }
     ],
     "prompt_number": 20
    },
    {
     "cell_type": "code",
     "collapsed": false,
     "input": [
      "def minmax_normalize(value):\n",
      "    \"\"\"Takes a donation amount and returns a normalized value between 0-1. The\n",
      "    normilzation should use the min and max amounts from the full dataset\"\"\"\n",
      "\n",
      "    norm = ((value - minimum)/(maximum - minimum))\n",
      "    return norm\n",
      "\n",
      "##### Normalize some sample values\n",
      "print \"Min-max normalized values: %r\" % map(minmax_normalize, [2500, 50, 250, 35, 8, 100, 19])"
     ],
     "language": "python",
     "metadata": {},
     "outputs": [
      {
       "output_type": "stream",
       "stream": "stdout",
       "text": [
        "Min-max normalized values: [0.020889287135886683, 0.02064584772855135, 0.020665720333231784, 0.020644357283200316, 0.020641674481568457, 0.02065081587972146, 0.020642767474825883]\n"
       ]
      }
     ],
     "prompt_number": 23
    },
    {
     "cell_type": "code",
     "collapsed": false,
     "input": [],
     "language": "python",
     "metadata": {},
     "outputs": []
    }
   ],
   "metadata": {}
  }
 ]
}